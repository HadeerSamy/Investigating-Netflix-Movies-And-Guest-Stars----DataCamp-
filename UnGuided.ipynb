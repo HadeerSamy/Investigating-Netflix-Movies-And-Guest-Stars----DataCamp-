{
 "cells": [
  {
   "cell_type": "markdown",
   "metadata": {},
   "source": [
    "The Office! What started as a British mockumentary series about office culture in 2001 has since spawned ten other variants across the world, including an Israeli version (2010-13), a Hindi version (2019-), and even a French Canadian variant (2006-2007). Of all these iterations (including the original), the American series has been the longest-running, spanning 201 episodes over nine seasons."
   ]
  },
  {
   "cell_type": "markdown",
   "metadata": {},
   "source": [
    "In this notebook, we will take a look at a dataset of The Office episodes, and try to understand how the popularity and quality of the series varied over time. To do so, we will use the following dataset: datasets/office_episodes.csv, which was downloaded from Kaggle https://www.kaggle.com/datasets/nehaprabhavalkar/the-office-dataset\n",
    "\n",
    "This dataset contains information on a variety of characteristics of each episode. In detail, these are:"
   ]
  },
  {
   "cell_type": "markdown",
   "metadata": {},
   "source": [
    "# datasets/office_episodes.csv\n",
    "    episode_number: Canonical episode number.\n",
    "    season: Season in which the episode appeared.\n",
    "    episode_title: Title of the episode.\n",
    "    description: Description of the episode.\n",
    "    ratings: Average IMDB rating.\n",
    "    votes: Number of votes.\n",
    "    viewership_mil: Number of US viewers in millions.\n",
    "    duration: Duration in number of minutes.\n",
    "    release_date: Airdate.\n",
    "    guest_stars: Guest stars in the episode (if any).\n",
    "    director: Director of the episode.\n",
    "    writers: Writers of the episode.\n",
    "    has_guests: True/False column for whether the episode contained guest stars.\n",
    "    scaled_ratings: The ratings scaled from 0 (worst-reviewed) to 1 (best-reviewed)."
   ]
  }
 ],
 "metadata": {
  "language_info": {
   "name": "python"
  }
 },
 "nbformat": 4,
 "nbformat_minor": 2
}
