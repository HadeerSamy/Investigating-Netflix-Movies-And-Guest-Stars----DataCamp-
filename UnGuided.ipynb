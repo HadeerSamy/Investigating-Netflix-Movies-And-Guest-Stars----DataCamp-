{
 "cells": [
  {
   "cell_type": "markdown",
   "metadata": {},
   "source": [
    "The Office! What started as a British mockumentary series about office culture in 2001 has since spawned ten other variants across the world, including an Israeli version (2010-13), a Hindi version (2019-), and even a French Canadian variant (2006-2007). Of all these iterations (including the original), the American series has been the longest-running, spanning 201 episodes over nine seasons."
   ]
  },
  {
   "cell_type": "markdown",
   "metadata": {},
   "source": [
    "In this notebook, we will take a look at a dataset of The Office episodes, and try to understand how the popularity and quality of the series varied over time. To do so, we will use the following dataset: datasets/office_episodes.csv, which was downloaded from Kaggle https://www.kaggle.com/datasets/nehaprabhavalkar/the-office-dataset\n",
    "\n",
    "This dataset contains information on a variety of characteristics of each episode. In detail, these are:"
   ]
  },
  {
   "cell_type": "markdown",
   "metadata": {},
   "source": [
    "# datasets/office_episodes.csv\n",
    "    1.episode_number: Canonical episode number.\n",
    "    2.season: Season in which the episode appeared.\n",
    "    3.episode_title: Title of the episode.\n",
    "    4.description: Description of the episode.\n",
    "    5.ratings: Average IMDB rating.\n",
    "    6.votes: Number of votes.\n",
    "    7.viewership_mil: Number of US viewers in millions.\n",
    "    8.duration: Duration in number of minutes.\n",
    "    9.release_date: Airdate.\n",
    "    10.guest_stars: Guest stars in the episode (if any).\n",
    "    11.director: Director of the episode.\n",
    "    12.writers: Writers of the episode.\n",
    "    13.has_guests: True/False column for whether the episode contained guest stars.\n",
    "    14.scaled_ratings: The ratings scaled from 0 (worst-reviewed) to 1 (best-reviewed)."
   ]
  },
  {
   "cell_type": "markdown",
   "metadata": {},
   "source": [
    "So Here we Go!"
   ]
  },
  {
   "cell_type": "code",
   "execution_count": 1,
   "metadata": {},
   "outputs": [],
   "source": [
    "#importing libraries\n",
    "import matplotlib.pyplot as plt\n",
    "import pandas as pd"
   ]
  },
  {
   "cell_type": "code",
   "execution_count": null,
   "metadata": {},
   "outputs": [],
   "source": [
    "#reading th dataframe\n",
    "seriesDf = pd.read_csv(\"datasets/office_episodes.csv\")"
   ]
  },
  {
   "cell_type": "code",
   "execution_count": null,
   "metadata": {},
   "outputs": [],
   "source": [
    "# making a list of the colors for each scaled rating value\n",
    "colors = []\n",
    "\n",
    "for ind, row in seriesDf.iterrows():\n",
    "    if row[\"scaled_ratings\"] < 0.25:\n",
    "        colors.append(\"red\")\n",
    "    elif row[\"scaled_ratings\"] >= 0.25 and row[\"scaled_ratings\"]  < 0.50:\n",
    "        colors.append('orange')\n",
    "    elif row[\"scaled_ratings\"]  >= 0.5 and row[\"scaled_ratings\"]  <0.75:\n",
    "        colors.append('lightgreen')\n",
    "    else:\n",
    "        colors.append(\"darkgreen\")"
   ]
  },
  {
   "cell_type": "code",
   "execution_count": null,
   "metadata": {},
   "outputs": [],
   "source": [
    "# making a list of the szies for each episode to determine the existence of guest stars\n",
    "size = []\n",
    "for ind, row in seriesDf.iterrows():\n",
    "    if row[\"has_guests\"] == 1:\n",
    "        size.append(250)\n",
    "    else:\n",
    "        size.append(25)\n"
   ]
  },
  {
   "cell_type": "code",
   "execution_count": null,
   "metadata": {},
   "outputs": [],
   "source": [
    "# creating the scatter plot\n",
    "fig = plt.figure()\n",
    "\n",
    "plt.scatter(seriesDf[\"episode_number\"],seriesDf[\"viewership_mil\"], c =colors, s=size) "
   ]
  },
  {
   "cell_type": "code",
   "execution_count": null,
   "metadata": {},
   "outputs": [],
   "source": [
    "# Adding titles and labels\n",
    "plt.title(\"Popularity, Quality, and Guest Appearances on the Office\")\n",
    "plt.xlabel(\"Episode Number\")\n",
    "plt.ylabel(\"Viewership (Millions)\")"
   ]
  },
  {
   "cell_type": "code",
   "execution_count": null,
   "metadata": {},
   "outputs": [],
   "source": [
    "#showing the plot\n",
    "plt.show()"
   ]
  },
  {
   "cell_type": "code",
   "execution_count": null,
   "metadata": {},
   "outputs": [],
   "source": [
    "# Getting the guest appeared in the most viewed episode\n",
    "top_stars = seriesDf.loc[seriesDf[\"viewership_mil\"] == seriesDf[\"viewership_mil\"].max()]\n",
    "print (top_stars[\"guest_stars\"])\n",
    "top_star = \"Cloris Leachman\""
   ]
  }
 ],
 "metadata": {
  "kernelspec": {
   "display_name": "Python 3",
   "language": "python",
   "name": "python3"
  },
  "language_info": {
   "codemirror_mode": {
    "name": "ipython",
    "version": 3
   },
   "file_extension": ".py",
   "mimetype": "text/x-python",
   "name": "python",
   "nbconvert_exporter": "python",
   "pygments_lexer": "ipython3",
   "version": "3.11.4"
  }
 },
 "nbformat": 4,
 "nbformat_minor": 2
}
